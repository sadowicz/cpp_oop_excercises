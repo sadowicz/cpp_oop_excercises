{
 "cells": [
  {
   "cell_type": "markdown",
   "metadata": {},
   "source": [
    "# OOP 2020"
   ]
  },
  {
   "cell_type": "markdown",
   "metadata": {},
   "source": [
    "## 7. QT"
   ]
  },
  {
   "cell_type": "markdown",
   "metadata": {},
   "source": [
    "Links:\n",
    "\n",
    "- [QT](https://www.qt.io/)\n",
    "- [Signals & Slots](https://doc.qt.io/archives/qt-4.8/signalsandslots.html)\n",
    "- [qmake](https://doc.qt.io/archives/qt-4.8/qmake-tutorial.html)\n",
    "- [moc](https://doc.qt.io/archives/qt-4.8/moc.html)\n",
    "- [SUBDIRS - handling dependencies](https://wiki.qt.io/SUBDIRS_-_handling_dependencies)\n",
    "- [Qt Test](https://doc.qt.io/qt-5/qttest-index.html)"
   ]
  },
  {
   "cell_type": "markdown",
   "metadata": {},
   "source": [
    "Tutorials:\n",
    "\n",
    "1. [Tutorial](01_tutorial/index.ipynb)"
   ]
  },
  {
   "cell_type": "markdown",
   "metadata": {},
   "source": [
    "Exercises:\n",
    "\n",
    "2. [Exercise](02_exercise/index.ipynb)"
   ]
  }
 ],
 "metadata": {
  "kernelspec": {
   "display_name": "Python 3",
   "language": "python",
   "name": "python3"
  },
  "language_info": {
   "codemirror_mode": {
    "name": "ipython",
    "version": 3
   },
   "file_extension": ".py",
   "mimetype": "text/x-python",
   "name": "python",
   "nbconvert_exporter": "python",
   "pygments_lexer": "ipython3",
   "version": "3.8.3"
  }
 },
 "nbformat": 4,
 "nbformat_minor": 4
}
