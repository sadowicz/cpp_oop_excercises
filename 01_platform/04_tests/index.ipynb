{
 "cells": [
  {
   "cell_type": "markdown",
   "metadata": {},
   "source": [
    "# OOP 2020"
   ]
  },
  {
   "cell_type": "markdown",
   "metadata": {},
   "source": [
    "## 1. Platform"
   ]
  },
  {
   "cell_type": "markdown",
   "metadata": {},
   "source": [
    "### 1.4. Tests"
   ]
  },
  {
   "cell_type": "markdown",
   "metadata": {},
   "source": [
    "In this exercise, the [Goole Test](https://github.com/google/googletest/blob/release-1.10.0/googletest/docs/primer.md) project will be downloaded, compiled and used to create unit tests."
   ]
  },
  {
   "cell_type": "markdown",
   "metadata": {},
   "source": [
    "#### Cloning the Google Test project"
   ]
  },
  {
   "cell_type": "markdown",
   "metadata": {},
   "source": [
    "First, remove the ```googletest``` directory if present:"
   ]
  },
  {
   "cell_type": "code",
   "execution_count": null,
   "metadata": {},
   "outputs": [],
   "source": [
    "! rm -rf googletest"
   ]
  },
  {
   "cell_type": "markdown",
   "metadata": {},
   "source": [
    "Clone the [google/googletest](https://github.com/google/googletest) repository tag [release-1.10.0](https://github.com/google/googletest/tree/release-1.10.0): "
   ]
  },
  {
   "cell_type": "code",
   "execution_count": null,
   "metadata": {},
   "outputs": [],
   "source": [
    "! git clone --depth=1 --branch=release-1.10.0 https://github.com/google/googletest.git"
   ]
  },
  {
   "cell_type": "markdown",
   "metadata": {},
   "source": [
    "Remove not needed GIT data:"
   ]
  },
  {
   "cell_type": "code",
   "execution_count": null,
   "metadata": {},
   "outputs": [],
   "source": [
    "! rm -rf googletest/.git"
   ]
  },
  {
   "cell_type": "markdown",
   "metadata": {},
   "source": [
    "#### Compiling the Google Test project"
   ]
  },
  {
   "cell_type": "code",
   "execution_count": null,
   "metadata": {},
   "outputs": [],
   "source": [
    "! cd googletest && mkdir build && cd build && cmake ../ && make -j4"
   ]
  },
  {
   "cell_type": "markdown",
   "metadata": {},
   "source": [
    "In the later parts of the exercasie you will have to use the compiled ```libgtest.a``` and ```libgtest_main.a``` libraries:"
   ]
  },
  {
   "cell_type": "code",
   "execution_count": null,
   "metadata": {},
   "outputs": [],
   "source": [
    "! find googletest/build -name lib*gtest*.a"
   ]
  },
  {
   "cell_type": "markdown",
   "metadata": {},
   "source": [
    "And the ```gtest/gtest.h``` header file:"
   ]
  },
  {
   "cell_type": "code",
   "execution_count": null,
   "metadata": {},
   "outputs": [],
   "source": [
    "! find googletest -name gtest.h | grep -v internal"
   ]
  },
  {
   "cell_type": "markdown",
   "metadata": {},
   "source": [
    "#### Compiling simple test"
   ]
  },
  {
   "cell_type": "markdown",
   "metadata": {},
   "source": [
    "First, add ```main.cpp``` file to the project. The file should contain following code:\n",
    "\n",
    "```c++\n",
    "#include <gtest/gtest.h>\n",
    "\n",
    "class Calculator {\n",
    "public:\n",
    "\n",
    "    Calculator(int a, int b) : a(a), b(b) {}\n",
    "\n",
    "    int add() const {\n",
    "        return a + b;\n",
    "    }\n",
    "\n",
    "private:\n",
    "    int a;\n",
    "    int b;\n",
    "};\n",
    "\n",
    "TEST(Calculator, Add) {\n",
    "\n",
    "    Calculator calculator{1, 2};\n",
    "    EXPECT_EQ(3, calculator.add());\n",
    "}\n",
    "```\n",
    "\n",
    "The task is to compile and run the code by modifying only the ```CMakeLists.txt``` file."
   ]
  },
  {
   "cell_type": "code",
   "execution_count": null,
   "metadata": {},
   "outputs": [],
   "source": [
    "! clion project"
   ]
  },
  {
   "cell_type": "markdown",
   "metadata": {},
   "source": [
    "#### Project structure"
   ]
  },
  {
   "cell_type": "markdown",
   "metadata": {},
   "source": [
    "The structure of the project should be changed into:\n",
    "\n",
    "```\n",
    "project/\n",
    "├── CMakeLists.txt\n",
    "├── include\n",
    "│   └── Calculator.h\n",
    "├── src\n",
    "│   ├── Calculator.cpp\n",
    "│   └── main.cpp\n",
    "└── tests\n",
    "    ├── CMakeLists.txt\n",
    "    └── src\n",
    "        └── CalculatorTest.cpp\n",
    "\n",
    "4 directories, 6 files\n",
    "```"
   ]
  },
  {
   "cell_type": "markdown",
   "metadata": {},
   "source": [
    "The ```include/Calculator.h``` should contain:\n",
    "\n",
    "```c++\n",
    "#pragma once\n",
    "\n",
    "class Calculator {\n",
    "public:\n",
    "\n",
    "    Calculator(int a, int b);\n",
    "\n",
    "    int add() const;\n",
    "\n",
    "private:\n",
    "    int a;\n",
    "    int b;\n",
    "};\n",
    "```"
   ]
  },
  {
   "cell_type": "markdown",
   "metadata": {},
   "source": [
    "The ```src/Calculator.cpp```:\n",
    "\n",
    "```c++\n",
    "#include \"Calculator.h\"\n",
    "\n",
    "Calculator::Calculator(int a, int b) : a(a), b(b) {}\n",
    "\n",
    "int Calculator::add() const {\n",
    "    return a + b;\n",
    "}\n",
    "```"
   ]
  },
  {
   "cell_type": "markdown",
   "metadata": {},
   "source": [
    "The ```src/main.cpp```:\n",
    "\n",
    "```c++\n",
    "#include \"Calculator.h\"\n",
    "#include <iostream>\n",
    "\n",
    "int main() {\n",
    "\n",
    "    Calculator calculator{1, 2};\n",
    "    std::cout << \"Sum: \" << calculator.add() << std::endl;\n",
    "\n",
    "    return 0;\n",
    "}\n",
    "```"
   ]
  },
  {
   "cell_type": "markdown",
   "metadata": {},
   "source": [
    "The ```tests/src/CalculatorTest.cpp```:\n",
    "\n",
    "```c++\n",
    "#include \"Calculator.h\"\n",
    "#include <gtest/gtest.h>\n",
    "\n",
    "TEST(Calculator, Add) {\n",
    "\n",
    "    Calculator calculator{1, 2};\n",
    "    EXPECT_EQ(3, calculator.add());\n",
    "}\n",
    "```"
   ]
  },
  {
   "cell_type": "markdown",
   "metadata": {},
   "source": [
    "The task is to edit the ```CMakeLists.txt``` and ```tests/CMakeLists.txt```.\n",
    "\n",
    "Compilation should produce three files:\n",
    "\n",
    "1. ```libcalculator.a``` - static library containing the calculator class\n",
    "2. ```runner``` - command line application\n",
    "3. ```tests``` - test project\n",
    "\n",
    "Some hints:\n",
    "\n",
    "1. Use CMake targets! (```target_include_directories```, ```target_link_libraries``` etc.)\n",
    "2. Use ```add_subdirectory``` to add nested ```tests/CMakeLists.txt```\n",
    "3. Use Google Test library only in ```tests/CMakeLists.txt```"
   ]
  },
  {
   "cell_type": "code",
   "execution_count": null,
   "metadata": {},
   "outputs": [],
   "source": [
    "! clion project"
   ]
  }
 ],
 "metadata": {
  "kernelspec": {
   "display_name": "Python 3",
   "language": "python",
   "name": "python3"
  },
  "language_info": {
   "codemirror_mode": {
    "name": "ipython",
    "version": 3
   },
   "file_extension": ".py",
   "mimetype": "text/x-python",
   "name": "python",
   "nbconvert_exporter": "python",
   "pygments_lexer": "ipython3",
   "version": "3.8.3"
  }
 },
 "nbformat": 4,
 "nbformat_minor": 4
}
