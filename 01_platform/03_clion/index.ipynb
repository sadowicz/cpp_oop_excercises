{
 "cells": [
  {
   "cell_type": "markdown",
   "metadata": {},
   "source": [
    "# OOP 2020"
   ]
  },
  {
   "cell_type": "markdown",
   "metadata": {},
   "source": [
    "## 1. Platform"
   ]
  },
  {
   "cell_type": "markdown",
   "metadata": {},
   "source": [
    "### 1.3. CLion"
   ]
  },
  {
   "cell_type": "markdown",
   "metadata": {},
   "source": [
    "#### Initial Setup and First Project"
   ]
  },
  {
   "cell_type": "markdown",
   "metadata": {},
   "source": [
    "Let us create an empty directory and open it with CLion:"
   ]
  },
  {
   "cell_type": "code",
   "execution_count": null,
   "metadata": {},
   "outputs": [],
   "source": [
    "! mkdir project && clion project"
   ]
  },
  {
   "cell_type": "markdown",
   "metadata": {},
   "source": [
    "<img src=\"01_initial/01_user_agreement.jpg\"/>\n",
    "<img src=\"01_initial/02_data_sharing.jpg\"/>\n",
    "<img src=\"01_initial/03_light_theme.jpg\"/>\n",
    "<img src=\"01_initial/04_customize_clion.jpg\"/>\n",
    "<img src=\"01_initial/05_customize_clion.jpg\"/>\n",
    "<img src=\"01_initial/06_evaluate.jpg\"/>\n",
    "<img src=\"01_initial/07_select_cmake_and_gdb.jpg\"/>\n",
    "<img src=\"01_initial/08_close_tips.jpg\"/>\n",
    "<img src=\"01_initial/09_new_cmake_lists.jpg\"/>\n",
    "<img src=\"01_initial/10_load_cmake_project.jpg\"/>\n",
    "<img src=\"01_initial/11_new_source_file.jpg\"/>\n",
    "<img src=\"01_initial/12_add_main.jpg\"/>\n",
    "<img src=\"01_initial/13_files_ready.jpg\"/>\n",
    "<img src=\"01_initial/14_adding_some_leaky_code.jpg\"/>"
   ]
  },
  {
   "cell_type": "markdown",
   "metadata": {},
   "source": [
    "Source from ```main.cpp```:\n",
    "\n",
    "```c++\n",
    "#include <iostream>\n",
    "\n",
    "int main() {\n",
    "\n",
    "    std::size_t N = 1000;\n",
    "    char *data = new char[N];\n",
    "\n",
    "    for (int i = 0; i < 10000; i++) {\n",
    "        delete[] data;\n",
    "        data = new char[N];\n",
    "    }\n",
    "\n",
    "    std::cout << \"Done! Should leak \" << N << \"B of memory!\" << std::endl;\n",
    "\n",
    "    return 0;\n",
    "}\n",
    "```"
   ]
  },
  {
   "cell_type": "markdown",
   "metadata": {},
   "source": [
    "<img src=\"01_initial/15_addin_cmake_and_reload.jpg\"/>"
   ]
  },
  {
   "cell_type": "markdown",
   "metadata": {},
   "source": [
    "Source from ```CMakeLists.txt```:\n",
    "\n",
    "```cmake\n",
    "project(dummy)\n",
    "\n",
    "add_executable(dummy main.cpp)\n",
    "```"
   ]
  },
  {
   "cell_type": "markdown",
   "metadata": {},
   "source": [
    "<img src=\"01_initial/16_run_code.jpg\"/>\n",
    "<img src=\"01_initial/17_it_works.jpg\"/>\n",
    "<img src=\"01_initial/18_exit.jpg\"/>"
   ]
  },
  {
   "cell_type": "markdown",
   "metadata": {},
   "source": [
    "#### Debugging"
   ]
  },
  {
   "cell_type": "code",
   "execution_count": null,
   "metadata": {},
   "outputs": [],
   "source": [
    "! clion project"
   ]
  },
  {
   "cell_type": "markdown",
   "metadata": {},
   "source": [
    "<img src=\"02_debugging/01_add_breakpoint.jpg\"/>\n",
    "<img src=\"02_debugging/02_debug.jpg\"/>\n",
    "<img src=\"02_debugging/03_step_over.jpg\"/>\n",
    "<img src=\"02_debugging/04_set_value.jpg\"/>\n",
    "<img src=\"02_debugging/05_enter_new_value.jpg\"/>\n",
    "<img src=\"02_debugging/06_remove_brakpoint.jpg\"/>\n",
    "<img src=\"02_debugging/07_resume.jpg\"/>\n",
    "<img src=\"02_debugging/08_finished_debuging.jpg\"/>\n",
    "<img src=\"02_debugging/09_changed_output.jpg\"/>\n",
    "<img src=\"02_debugging/10_close.jpg\"/>\n",
    "<img src=\"02_debugging/11_exit.jpg\"/>"
   ]
  },
  {
   "cell_type": "markdown",
   "metadata": {},
   "source": [
    "#### Valgrind"
   ]
  },
  {
   "cell_type": "code",
   "execution_count": null,
   "metadata": {},
   "outputs": [],
   "source": [
    "! clion project"
   ]
  },
  {
   "cell_type": "markdown",
   "metadata": {},
   "source": [
    "<img src=\"03_valgrind/01_run_valgrind.jpg\"/>\n",
    "<img src=\"03_valgrind/02_go_to_report.jpg\"/>\n",
    "<img src=\"03_valgrind/03_leak_detected.jpg\"/>\n",
    "<img src=\"03_valgrind/04_fixing_the_leak.jpg\"/>"
   ]
  },
  {
   "cell_type": "markdown",
   "metadata": {},
   "source": [
    "Code in ```main.cpp```:\n",
    "    \n",
    "```c++\n",
    "#include <iostream>\n",
    "\n",
    "int main() {\n",
    "\n",
    "    std::size_t N = 1000;\n",
    "    char *data = new char[N];\n",
    "\n",
    "    for (int i = 0; i < 10000; i++) {\n",
    "        delete[] data;\n",
    "        data = new char[N];\n",
    "    }\n",
    "\n",
    "    delete[] data;\n",
    "\n",
    "    std::cout << \"Done! Should not leak memory!\" << std::endl;\n",
    "\n",
    "    return 0;\n",
    "}\n",
    "```"
   ]
  },
  {
   "cell_type": "markdown",
   "metadata": {},
   "source": [
    "<img src=\"03_valgrind/05_go_to_results.jpg\"/>\n",
    "<img src=\"03_valgrind/06_no_leaks.jpg\"/>\n",
    "<img src=\"03_valgrind/07_close.jpg\"/>\n",
    "<img src=\"03_valgrind/08_exit.jpg\"/>"
   ]
  },
  {
   "cell_type": "markdown",
   "metadata": {},
   "source": [
    "#### Coverage"
   ]
  },
  {
   "cell_type": "code",
   "execution_count": null,
   "metadata": {},
   "outputs": [],
   "source": [
    "! clion project"
   ]
  },
  {
   "cell_type": "markdown",
   "metadata": {},
   "source": [
    "<img src=\"04_coverage/01_add_some_code_and_run_coverage.jpg\"/>"
   ]
  },
  {
   "cell_type": "markdown",
   "metadata": {},
   "source": [
    "Code from ```main.cpp```:\n",
    "\n",
    "```c++\n",
    "#include <iostream>\n",
    "#include <thread>\n",
    "\n",
    "void sleep(int ms) { std::this_thread::sleep_for(std::chrono::microseconds(ms)); }\n",
    "\n",
    "void foo(int i) {\n",
    "    if (i % 3 == 0)\n",
    "        sleep(1);\n",
    "    else\n",
    "        sleep(2);\n",
    "}\n",
    "\n",
    "void bar(int i) {\n",
    "    if (i % 4 == 0)\n",
    "        sleep(1);\n",
    "    else\n",
    "        sleep(2);\n",
    "}\n",
    "\n",
    "void baz(int i) {\n",
    "    if (i % 2 == 0)\n",
    "        foo(i);\n",
    "    else\n",
    "        bar(i);\n",
    "}\n",
    "\n",
    "int main() {\n",
    "\n",
    "    std::size_t N = 1000;\n",
    "    char *data = new char[N];\n",
    "\n",
    "    for (int i = 0; i < 10000; i++) {\n",
    "        delete[] data;\n",
    "        baz(i);\n",
    "        data = new char[N];\n",
    "    }\n",
    "\n",
    "    delete[] data;\n",
    "\n",
    "    std::cout << \"Done! Should not leak memory!\" << std::endl;\n",
    "\n",
    "    return 0;\n",
    "}\n",
    "```"
   ]
  },
  {
   "cell_type": "markdown",
   "metadata": {},
   "source": [
    "<img src=\"04_coverage/02_fix_by_adding_flags_and_rerun.jpg\"/>\n",
    "<img src=\"04_coverage/03_detected_unreachable_code.jpg\"/>\n",
    "<img src=\"04_coverage/04_change_code_and_rerun.jpg\"/>"
   ]
  },
  {
   "cell_type": "markdown",
   "metadata": {},
   "source": [
    "Code from ```main.cpp```:\n",
    "\n",
    "```c++\n",
    "#include <iostream>\n",
    "#include <thread>\n",
    "\n",
    "void sleep(int ms) { std::this_thread::sleep_for(std::chrono::microseconds(ms)); }\n",
    "\n",
    "void foo(int i) {\n",
    "    if (i % 3 == 0)\n",
    "        sleep(1);\n",
    "    else\n",
    "        sleep(2);\n",
    "}\n",
    "\n",
    "void bar(int i) {\n",
    "    if (i % 5 == 0)\n",
    "        sleep(1);\n",
    "    else\n",
    "        sleep(2);\n",
    "}\n",
    "\n",
    "void baz(int i) {\n",
    "    if (i % 2 == 0)\n",
    "        foo(i);\n",
    "    else\n",
    "        bar(i);\n",
    "}\n",
    "\n",
    "int main() {\n",
    "\n",
    "    std::size_t N = 1000;\n",
    "    char *data = new char[N];\n",
    "\n",
    "    for (int i = 0; i < 10000; i++) {\n",
    "        delete[] data;\n",
    "        baz(i);\n",
    "        data = new char[N];\n",
    "    }\n",
    "\n",
    "    delete[] data;\n",
    "\n",
    "    std::cout << \"Done! Should not leak memory!\" << std::endl;\n",
    "\n",
    "    return 0;\n",
    "}\n",
    "```"
   ]
  },
  {
   "cell_type": "markdown",
   "metadata": {},
   "source": [
    "<img src=\"04_coverage/05_perfect_line_coverage.jpg\"/>\n",
    "<img src=\"04_coverage/06_close.jpg\"/>\n",
    "<img src=\"04_coverage/07_exit.jpg\"/>"
   ]
  },
  {
   "cell_type": "markdown",
   "metadata": {},
   "source": [
    "#### Profiling"
   ]
  },
  {
   "cell_type": "code",
   "execution_count": null,
   "metadata": {},
   "outputs": [],
   "source": [
    "! clion project"
   ]
  },
  {
   "cell_type": "markdown",
   "metadata": {},
   "source": [
    "<img src=\"05_profiling/01_go_to_settings.jpg\"/>\n",
    "<img src=\"05_profiling/02_add_cmake_configuration.jpg\"/>\n",
    "<img src=\"05_profiling/03_save_the_optimised_relase_build_configuration.jpg\"/>\n",
    "<img src=\"05_profiling/04_select_release_configuration.jpg\"/>\n",
    "<img src=\"05_profiling/05_profile_the_application.jpg\"/>\n",
    "<img src=\"05_profiling/06_open_profile_data.jpg\"/>\n",
    "<img src=\"05_profiling/07_almost_all_time_in_sleep_but_app_functions_not_visible.jpg\"/>\n",
    "<img src=\"05_profiling/08_switch_to_debug.jpg\"/>\n",
    "<img src=\"05_profiling/09_profile_the_application.jpg\"/>\n",
    "<img src=\"05_profiling/10_go_to_the_profiling_results.jpg\"/>\n",
    "<img src=\"05_profiling/11_function_calls_visible_in_non_optimised_code.jpg\"/>\n",
    "<img src=\"05_profiling/12_functions_visible_in_flame_graph.jpg\"/>\n",
    "<img src=\"05_profiling/13_hide_results.jpg\"/>\n",
    "<img src=\"05_profiling/14_close.jpg\"/>\n",
    "<img src=\"05_profiling/15_exit.jpg\"/>"
   ]
  },
  {
   "cell_type": "markdown",
   "metadata": {},
   "source": [
    "#### Miscellaneous"
   ]
  },
  {
   "cell_type": "code",
   "execution_count": null,
   "metadata": {},
   "outputs": [],
   "source": [
    "! clion project"
   ]
  },
  {
   "cell_type": "markdown",
   "metadata": {},
   "source": [
    "<img src=\"06_misc/01_open_setting.jpg\"/>\n",
    "<img src=\"06_misc/02_set_keymap.jpg\"/>\n",
    "<img src=\"06_misc/03_scroll_to_zoom.jpg\"/>\n",
    "<img src=\"06_misc/04_save_changes.jpg\"/>\n",
    "<img src=\"06_misc/05_zoomed_select_symbol_and_press_f3.jpg\"/>\n",
    "<img src=\"06_misc/06_opened_reference.jpg\"/>\n",
    "<img src=\"06_misc/07_close.jpg\"/>\n",
    "<img src=\"06_misc/08_exit.jpg\"/>"
   ]
  }
 ],
 "metadata": {
  "kernelspec": {
   "display_name": "Python 3",
   "language": "python",
   "name": "python3"
  },
  "language_info": {
   "codemirror_mode": {
    "name": "ipython",
    "version": 3
   },
   "file_extension": ".py",
   "mimetype": "text/x-python",
   "name": "python",
   "nbconvert_exporter": "python",
   "pygments_lexer": "ipython3",
   "version": "3.8.3"
  }
 },
 "nbformat": 4,
 "nbformat_minor": 4
}
