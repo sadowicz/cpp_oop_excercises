{
 "cells": [
  {
   "cell_type": "markdown",
   "metadata": {},
   "source": [
    "# OOP 2020"
   ]
  },
  {
   "cell_type": "markdown",
   "metadata": {},
   "source": [
    "## 3. STL Containers"
   ]
  },
  {
   "cell_type": "markdown",
   "metadata": {},
   "source": [
    "Links:\n",
    "\n",
    "- [std::array](https://en.cppreference.com/w/cpp/container/array)\n",
    "- [std::vector](https://en.cppreference.com/w/cpp/container/vector)\n",
    "- [std::deque](https://en.cppreference.com/w/cpp/container/deque)\n",
    "- [std::forward_list](https://en.cppreference.com/w/cpp/container/forward_list)\n",
    "- [std::list](https://en.cppreference.com/w/cpp/container/list)\n",
    "- [std::set](https://en.cppreference.com/w/cpp/container/set)\n",
    "- [std::map](https://en.cppreference.com/w/cpp/container/map)\n",
    "- [std::multiset](https://en.cppreference.com/w/cpp/container/multiset)\n",
    "- [std::multimap](https://en.cppreference.com/w/cpp/container/multimap)\n",
    "- [std::unordered_set](https://en.cppreference.com/w/cpp/container/unordered_set)\n",
    "- [std::unordered_map](https://en.cppreference.com/w/cpp/container/unordered_map)\n",
    "- [std::unordered_multiset](https://en.cppreference.com/w/cpp/container/unordered_multiset)\n",
    "- [std::unordered_multimap](https://en.cppreference.com/w/cpp/container/unordered_multimap)"
   ]
  },
  {
   "cell_type": "markdown",
   "metadata": {},
   "source": [
    "Tutorials:\n",
    "\n",
    "1. [Tutorial](01_tutorial/index.ipynb)"
   ]
  },
  {
   "cell_type": "markdown",
   "metadata": {},
   "source": [
    "Exercises:\n",
    "\n",
    "2. [Exercise](02_exercise/index.ipynb)"
   ]
  }
 ],
 "metadata": {
  "kernelspec": {
   "display_name": "Python 3",
   "language": "python",
   "name": "python3"
  },
  "language_info": {
   "codemirror_mode": {
    "name": "ipython",
    "version": 3
   },
   "file_extension": ".py",
   "mimetype": "text/x-python",
   "name": "python",
   "nbconvert_exporter": "python",
   "pygments_lexer": "ipython3",
   "version": "3.8.3"
  }
 },
 "nbformat": 4,
 "nbformat_minor": 4
}
