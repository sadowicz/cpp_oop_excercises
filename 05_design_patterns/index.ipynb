{
 "cells": [
  {
   "cell_type": "markdown",
   "metadata": {},
   "source": [
    "# OOP 2020"
   ]
  },
  {
   "cell_type": "markdown",
   "metadata": {},
   "source": [
    "## 5. Design Patterns"
   ]
  },
  {
   "cell_type": "markdown",
   "metadata": {},
   "source": [
    "Links:\n",
    "\n",
    "- [Observer pattern](https://en.m.wikipedia.org/wiki/Observer_pattern)\n",
    "- [Inheritance (object-oriented programming)](https://en.m.wikipedia.org/wiki/Inheritance_(object-oriented_programming))\n",
    "- [Class diagram](https://en.m.wikipedia.org/wiki/Class_diagram)\n",
    "- [PlantUML Class Diagram](https://plantuml.com/class-diagram)\n",
    "- [Abstract factory pattern](https://en.m.wikipedia.org/wiki/Abstract_factory_pattern)\n",
    "- [Smart pointers](https://en.cppreference.com/book/intro/smart_pointers)"
   ]
  },
  {
   "cell_type": "markdown",
   "metadata": {},
   "source": [
    "Tutorials:\n",
    "\n",
    "1. [Tutorial](01_tutorial/index.ipynb)"
   ]
  },
  {
   "cell_type": "markdown",
   "metadata": {},
   "source": [
    "Exercises:\n",
    "\n",
    "2. [Exercise](02_exercise/index.ipynb)"
   ]
  }
 ],
 "metadata": {
  "kernelspec": {
   "display_name": "Python 3",
   "language": "python",
   "name": "python3"
  },
  "language_info": {
   "codemirror_mode": {
    "name": "ipython",
    "version": 3
   },
   "file_extension": ".py",
   "mimetype": "text/x-python",
   "name": "python",
   "nbconvert_exporter": "python",
   "pygments_lexer": "ipython3",
   "version": "3.8.3"
  }
 },
 "nbformat": 4,
 "nbformat_minor": 4
}
