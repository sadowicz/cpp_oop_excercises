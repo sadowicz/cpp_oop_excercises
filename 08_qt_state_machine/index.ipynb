{
 "cells": [
  {
   "cell_type": "markdown",
   "metadata": {},
   "source": [
    "# OOP 2020"
   ]
  },
  {
   "cell_type": "markdown",
   "metadata": {},
   "source": [
    "## 8. QT - State Machine"
   ]
  },
  {
   "cell_type": "markdown",
   "metadata": {},
   "source": [
    "#### Links"
   ]
  },
  {
   "cell_type": "markdown",
   "metadata": {},
   "source": [
    "- [The State Machine Framework](https://doc.qt.io/archives/qt-4.8/statemachine-api.html)\n",
    "- [State Diagram](https://plantuml.com/state-diagram)"
   ]
  },
  {
   "cell_type": "markdown",
   "metadata": {},
   "source": [
    "#### Tasks"
   ]
  },
  {
   "cell_type": "markdown",
   "metadata": {},
   "source": [
    "1. Implement the state machine from the below UML diagram\n",
    "2. Record a presentation of working application which includes:\n",
    "  - clean repository cheeckut\n",
    "  - starting this notebook, compiling and running the application\n",
    "  - using the editor"
   ]
  },
  {
   "cell_type": "markdown",
   "metadata": {},
   "source": [
    "#### UML"
   ]
  },
  {
   "cell_type": "code",
   "execution_count": null,
   "metadata": {},
   "outputs": [],
   "source": [
    "import iplantuml"
   ]
  },
  {
   "cell_type": "code",
   "execution_count": null,
   "metadata": {},
   "outputs": [],
   "source": [
    "%%plantuml\n",
    "\n",
    "@startuml\n",
    "\n",
    "[*] -down-> Unlocked\n",
    "\n",
    "Locked -up-> Unlocked : <b>pbToggle</b> clicked(bool)\n",
    "Unlocked -down-> Locked : <b>pbToggle</b> clicked(bool)\n",
    "\n",
    "state Unlocked {\n",
    "    [*] -down-> Startup\n",
    "    Startup -down-> Open : <b>pbOpen</b> clicked(bool)\n",
    "    Error -up-> Open : <b>pbOpen</b> clicked(bool)\n",
    "    Open -right-> View : <b>this</b> opened()\n",
    "    Open -down-> Error : <b>this</b> error()\n",
    "    Open: <b>state</b> entered() -> <b>this</b> open()\n",
    "    View -up-> Edit : <b>teText</b> textChanged()\n",
    "    View -left-> Open : <b>pbOpen</b> clicked(bool)\n",
    "    Edit -down-> Save : <b>pbSave</b> clicked(bool)\n",
    "    Save -left-> View : <b>this</b> saved()\n",
    "    Save: <b>state</b> entered() -> <b>this</b> save()\n",
    "    Save -down-> Error : <b>this</b> error()\n",
    "\n",
    "    note top of Open \n",
    "        - displays file dialog for file selection\n",
    "        - reads the file contents\n",
    "        - sets obtained text into the <b>teText</b>\n",
    "        - stores selected file name\n",
    "    end note\n",
    "\n",
    "    note bottom of Save\n",
    "        - saves text to file\n",
    "        - selected file name is used\n",
    "    end note\n",
    "}\n",
    "\n",
    "Unlocked: <b>pbToggle</b> text <b>Lock</b>\n",
    "Unlocked: <b>pbOpen</b> enabled <b>true</b>\n",
    "Unlocked: <b>pbSave</b> enabled <b>true</b>\n",
    "Unlocked: <b>teText</b> enabled <b>true</b>\n",
    "\n",
    "note bottom of Unlocked\n",
    "    - history state is used when renentering state\n",
    "    - previous child state will be restored automatically\n",
    "end note\n",
    "\n",
    "Locked: <b>pbToggle</b> text <b>Unlock</b>\n",
    "Locked: <b>pbOpen</b> enabled <b>false</b>\n",
    "Locked: <b>pbSave</b> enabled <b>false</b>\n",
    "Locked: <b>teText</b> enabled <b>false</b>\n",
    "\n",
    "Startup: <b>pbOpen</b> enabled <b>true</b>\n",
    "Startup: <b>pbSave</b> enabled <b>false</b>\n",
    "Startup: <b>teText</b> enabled <b>false</b>\n",
    "Startup: <b>teText</b> placeholderText <b>Open file to start editing...</b>\n",
    "\n",
    "View: <b>pbOpen</b> enabled <b>true</b>\n",
    "View: <b>pbSave</b> enabled <b>false</b>\n",
    "View: <b>teText</b> enabled <b>true</b>\n",
    "\n",
    "Edit: <b>pbOpen</b> enabled <b>false</b>\n",
    "Edit: <b>pbSave</b> enabled <b>true</b>\n",
    "Edit: <b>teText</b> enabled <b>true</b>\n",
    "\n",
    "Error: <b>pbOpen</b> enabled <b>true</b>\n",
    "Error: <b>pbSave</b> enabled <b>false</b>\n",
    "Error: <b>teText</b> enabled <b>false</b>\n",
    "Error: <b>teText</b> placeholderText <b>Error ocured. Open file to start editing...</b>\n",
    "\n",
    "@enduml"
   ]
  },
  {
   "cell_type": "markdown",
   "metadata": {},
   "source": [
    "#### Edit the code"
   ]
  },
  {
   "cell_type": "code",
   "execution_count": null,
   "metadata": {},
   "outputs": [],
   "source": [
    "! qtcreator"
   ]
  },
  {
   "cell_type": "markdown",
   "metadata": {},
   "source": [
    "#### Build the code"
   ]
  },
  {
   "cell_type": "code",
   "execution_count": null,
   "metadata": {},
   "outputs": [],
   "source": [
    "! rm -rf build-project"
   ]
  },
  {
   "cell_type": "code",
   "execution_count": null,
   "metadata": {},
   "outputs": [],
   "source": [
    "! mkdir build-project"
   ]
  },
  {
   "cell_type": "code",
   "execution_count": null,
   "metadata": {},
   "outputs": [],
   "source": [
    "! cd build-project && qmake ../project"
   ]
  },
  {
   "cell_type": "code",
   "execution_count": null,
   "metadata": {},
   "outputs": [],
   "source": [
    "! cd build-project && make -j4"
   ]
  },
  {
   "cell_type": "code",
   "execution_count": null,
   "metadata": {},
   "outputs": [],
   "source": [
    "! build-project/project"
   ]
  },
  {
   "cell_type": "markdown",
   "metadata": {},
   "source": [
    "Stop above cell or close the window."
   ]
  }
 ],
 "metadata": {
  "kernelspec": {
   "display_name": "Python 3",
   "language": "python",
   "name": "python3"
  },
  "language_info": {
   "codemirror_mode": {
    "name": "ipython",
    "version": 3
   },
   "file_extension": ".py",
   "mimetype": "text/x-python",
   "name": "python",
   "nbconvert_exporter": "python",
   "pygments_lexer": "ipython3",
   "version": "3.8.3"
  }
 },
 "nbformat": 4,
 "nbformat_minor": 4
}
