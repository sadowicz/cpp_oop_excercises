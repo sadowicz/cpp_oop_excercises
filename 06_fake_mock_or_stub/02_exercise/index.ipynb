{
 "cells": [
  {
   "cell_type": "markdown",
   "metadata": {},
   "source": [
    "# OOP 2020"
   ]
  },
  {
   "cell_type": "markdown",
   "metadata": {},
   "source": [
    "## 6. Fake, Mock or Stub?"
   ]
  },
  {
   "cell_type": "markdown",
   "metadata": {},
   "source": [
    "### 6.2. Exercise"
   ]
  },
  {
   "cell_type": "markdown",
   "metadata": {},
   "source": [
    "Tasks:\n",
    "\n",
    "1. Refactor the code according to below UML diagram\n",
    "2. Write tests for the ```Universe``` class"
   ]
  },
  {
   "cell_type": "code",
   "execution_count": null,
   "metadata": {},
   "outputs": [],
   "source": [
    "import iplantuml"
   ]
  },
  {
   "cell_type": "code",
   "execution_count": null,
   "metadata": {},
   "outputs": [],
   "source": [
    "%%plantuml\n",
    "\n",
    "@startuml\n",
    "\n",
    "interface Observer {\n",
    "    + void remember(std::string question, std::string answer)\n",
    "    + std::string answer(std::string question) const\n",
    "}\n",
    "\n",
    "class ObserverImpl {\n",
    "    + void remember(std::string question, std::string answer)\n",
    "    + std::string answer(std::string question) const\n",
    "    - std::map<std::string, std::string> answers\n",
    "}\n",
    "\n",
    "Observer <|-- ObserverImpl\n",
    "\n",
    "class Point {\n",
    "    std::vector<float> coordinates\n",
    "}\n",
    "\n",
    "interface Space {\n",
    "    + void create(unsigned int dimensions)\n",
    "    + unsigned int dimensions() const\n",
    "}\n",
    "\n",
    "class SpaceImpl {\n",
    "    + void create(unsigned int dimensions)\n",
    "    + unsigned int dimensions() const\n",
    "    - unsigned int dimensionsCount\n",
    "    - std::vector<Point> points\n",
    "}\n",
    "\n",
    "Space <|-- SpaceImpl\n",
    "Space \"1\" o-- \"*\" Point\n",
    "\n",
    "interface Time {\n",
    "    + void create(bool endless)\n",
    "    + long long now() const\n",
    "    + void flow()\n",
    "}\n",
    "\n",
    "class TimeImpl {\n",
    "    + void create(bool endless)\n",
    "    + long long now() const\n",
    "    + void flow()\n",
    "    - long long year\n",
    "    - bool endless\n",
    "}\n",
    "\n",
    "Time <|-- TimeImpl\n",
    "\n",
    "class Universe {\n",
    "    + void create()\n",
    "    + void simulate(long years)\n",
    "    - Time &time\n",
    "    - Space &space\n",
    "    - Observer &observer\n",
    "}\n",
    "\n",
    "class ObserverMock {\n",
    "    MOCK_METHOD2(remember, void(std::string question, std::string answer))\n",
    "    MOCK_CONST_METHOD1(answer, std::string(std::string question))\n",
    "}\n",
    "\n",
    "Observer <|-- ObserverMock\n",
    "\n",
    "class SpaceMock {\n",
    "    MOCK_METHOD1(create, void(unsigned int dimensions))\n",
    "    MOCK_CONST_METHOD0(dimensions, unsigned int())\n",
    "}\n",
    "\n",
    "Space <|-- SpaceMock\n",
    "\n",
    "class TimeMock {\n",
    "    MOCK_METHOD1(create, void(bool endless))\n",
    "    MOCK_CONST_METHOD0(now, long long())\n",
    "    MOCK_METHOD0(flow, void())\n",
    "}\n",
    "\n",
    "Time <|-- TimeMock\n",
    "\n",
    "Universe o-- Time\n",
    "Universe o-- Space\n",
    "Universe o-- Observer\n",
    "\n",
    "package main <<Rectangle>> {\n",
    "}\n",
    "\n",
    "main ..> Universe\n",
    "main ..> SpaceImpl\n",
    "main ..> ObserverImpl\n",
    "main ..> TimeImpl\n",
    "\n",
    "package test <<Rectangle>> {\n",
    "}\n",
    "\n",
    "test .up.> Universe\n",
    "test .up.> SpaceMock\n",
    "test .up.> ObserverMock\n",
    "test .up.> TimeMock\n",
    "\n",
    "@enduml"
   ]
  },
  {
   "cell_type": "markdown",
   "metadata": {},
   "source": [
    "#### GoogleTest"
   ]
  },
  {
   "cell_type": "code",
   "execution_count": null,
   "metadata": {},
   "outputs": [],
   "source": [
    "! rm -rf googletest\n",
    "! git clone --depth=1 --branch=release-1.10.0 https://github.com/google/googletest.git\n",
    "! rm -rf googletest/.git\n",
    "! cd googletest && mkdir build && cd build && cmake ../ && make -j4"
   ]
  },
  {
   "cell_type": "markdown",
   "metadata": {},
   "source": [
    "#### Editing the code:"
   ]
  },
  {
   "cell_type": "code",
   "execution_count": null,
   "metadata": {},
   "outputs": [],
   "source": [
    "! clion project"
   ]
  }
 ],
 "metadata": {
  "kernelspec": {
   "display_name": "Python 3",
   "language": "python",
   "name": "python3"
  },
  "language_info": {
   "codemirror_mode": {
    "name": "ipython",
    "version": 3
   },
   "file_extension": ".py",
   "mimetype": "text/x-python",
   "name": "python",
   "nbconvert_exporter": "python",
   "pygments_lexer": "ipython3",
   "version": "3.8.3"
  }
 },
 "nbformat": 4,
 "nbformat_minor": 4
}
