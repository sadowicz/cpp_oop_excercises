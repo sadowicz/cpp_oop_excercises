{
 "cells": [
  {
   "cell_type": "markdown",
   "metadata": {},
   "source": [
    "# OOP 2020"
   ]
  },
  {
   "cell_type": "markdown",
   "metadata": {},
   "source": [
    "## 2. TDD"
   ]
  },
  {
   "cell_type": "markdown",
   "metadata": {},
   "source": [
    "### 2.2. Exercise"
   ]
  },
  {
   "cell_type": "markdown",
   "metadata": {},
   "source": [
    "Implement two classes using the TDD approach:\n",
    "\n",
    "1. ```TextWrap```\n",
    "    - Wraps single line of text into multiplie lines with specified column width. Example: \n",
    "    ```\n",
    "    # Input\n",
    "    Lorem ipsum dolor sit amet, consectetur adipiscing elit. Duis accumsan dignissim ante vel suscipit. Aenean suscipit ex porttitor, lobortis eros non, cursus nunc. In consectetur, magna nec sodales egestas, nisi felis tincidunt ipsum, et ornare massa magna sit amet eros. Etiam bibendum eros viverra augue ultrices vehicula. Etiam risus lectus, rhoncus vitae odio eget, sagittis malesuada nisl. Phasellus accumsan mi lorem, eget finibus purus pulvinar nec. Aliquam consequat ligula et maximus lobortis. In volutpat libero vitae eros gravida aliquet. Interdum et malesuada fames ac ante ipsum primis in faucibus. Fusce ac felis sapien. Nulla at lacus non risus imperdiet bibendum sit amet molestie purus. Nunc quis rutrum est. Sed id nisl non tortor facilisis rhoncus.\n",
    "    \n",
    "    # Columns \n",
    "    50\n",
    "    \n",
    "    # Output\n",
    "    Lorem ipsum dolor sit amet, consectetur adipiscing\n",
    "    elit. Duis accumsan dignissim ante vel suscipit.\n",
    "    Aenean suscipit ex porttitor, lobortis eros non,\n",
    "    cursus nunc. In consectetur, magna nec sodales\n",
    "    egestas, nisi felis tincidunt ipsum, et ornare\n",
    "    massa magna sit amet eros. Etiam bibendum eros\n",
    "    viverra augue ultrices vehicula. Etiam risus\n",
    "    lectus, rhoncus vitae odio eget, sagittis\n",
    "    malesuada nisl. Phasellus accumsan mi lorem, eget\n",
    "    finibus purus pulvinar nec. Aliquam consequat\n",
    "    ligula et maximus lobortis. In volutpat libero\n",
    "    vitae eros gravida aliquet. Interdum et malesuada\n",
    "    fames ac ante ipsum primis in faucibus. Fusce ac\n",
    "    felis sapien. Nulla at lacus non risus imperdiet\n",
    "    bibendum sit amet molestie purus. Nunc quis rutrum\n",
    "    est. Sed id nisl non tortor facilisis rhoncus. \n",
    "\n",
    "    # Columns \n",
    "    80\n",
    "    \n",
    "    # Output\n",
    "    Lorem ipsum dolor sit amet, consectetur adipiscing elit. Duis accumsan dignissim\n",
    "    ante vel suscipit. Aenean suscipit ex porttitor, lobortis eros non, cursus nunc.\n",
    "    In consectetur, magna nec sodales egestas, nisi felis tincidunt ipsum, et ornare\n",
    "    massa magna sit amet eros. Etiam bibendum eros viverra augue ultrices vehicula.\n",
    "    Etiam risus lectus, rhoncus vitae odio eget, sagittis malesuada nisl. Phasellus\n",
    "    accumsan mi lorem, eget finibus purus pulvinar nec. Aliquam consequat ligula et\n",
    "    maximus lobortis. In volutpat libero vitae eros gravida aliquet. Interdum et\n",
    "    malesuada fames ac ante ipsum primis in faucibus. Fusce ac felis sapien. Nulla\n",
    "    at lacus non risus imperdiet bibendum sit amet molestie purus. Nunc quis rutrum\n",
    "    est. Sed id nisl non tortor facilisis rhoncus.\n",
    "\n",
    "    # Columns \n",
    "    100\n",
    "    \n",
    "    # Output\n",
    "    Lorem ipsum dolor sit amet, consectetur adipiscing elit. Duis accumsan dignissim ante vel suscipit.\n",
    "    Aenean suscipit ex porttitor, lobortis eros non, cursus nunc. In consectetur, magna nec sodales\n",
    "    egestas, nisi felis tincidunt ipsum, et ornare massa magna sit amet eros. Etiam bibendum eros\n",
    "    viverra augue ultrices vehicula. Etiam risus lectus, rhoncus vitae odio eget, sagittis malesuada\n",
    "    nisl. Phasellus accumsan mi lorem, eget finibus purus pulvinar nec. Aliquam consequat ligula et\n",
    "    maximus lobortis. In volutpat libero vitae eros gravida aliquet. Interdum et malesuada fames ac ante\n",
    "    ipsum primis in faucibus. Fusce ac felis sapien. Nulla at lacus non risus imperdiet bibendum sit\n",
    "    amet molestie purus. Nunc quis rutrum est. Sed id nisl non tortor facilisis rhoncus.\n",
    "    ```\n",
    "2. ```RingBuffer```\n",
    "    - The data structure is described here: [Circular buffer](https://en.wikipedia.org/wiki/Circular_buffer)\n",
    "    - Ring buffer capacity is specified during construction (for example max of 5 elements)\n",
    "    - The size determines how many items are currently added\n",
    "    - When adding more than the capacity, the oldest items are overridden by new ones\n",
    "    - Removing elements removes oldest entries and returns them\n",
    "    - Example:\n",
    "    ```    \n",
    "    # Capacity 5\n",
    "    [- - - - -]     Size: 0\n",
    "    \n",
    "    # Add 1\n",
    "    [1 - - - -]     Size: 1\n",
    "    \n",
    "    # Add 2\n",
    "    [1 2 - - -]     Size: 2\n",
    "    \n",
    "    # Add 3\n",
    "    [1 2 3 - -]     Size: 3\n",
    "    \n",
    "    # Remove\n",
    "    [- 2 3 - -]     Size: 2\n",
    "    1\n",
    "    \n",
    "    # Add 4\n",
    "    [- 2 3 4 -]     Size: 3\n",
    "    \n",
    "    # Add 5\n",
    "    [- 2 3 4 5]     Size: 4\n",
    "    \n",
    "    # Add 6\n",
    "    [6 2 3 4 5]     Size: 5\n",
    "    \n",
    "    # Add 7\n",
    "    [6 7 3 4 5]     Size: 5\n",
    "    \n",
    "    # Remove\n",
    "    [6 7 - 4 5]     Size: 4\n",
    "    3\n",
    "    \n",
    "    # Remove\n",
    "    [6 7 - - 5]     Size: 3\n",
    "    4    \n",
    "    ```"
   ]
  },
  {
   "cell_type": "markdown",
   "metadata": {},
   "source": [
    "#### GoogleTest"
   ]
  },
  {
   "cell_type": "code",
   "execution_count": null,
   "metadata": {},
   "outputs": [],
   "source": [
    "! rm -rf googletest\n",
    "! git clone --depth=1 --branch=release-1.10.0 https://github.com/google/googletest.git\n",
    "! rm -rf googletest/.git\n",
    "! cd googletest && mkdir build && cd build && cmake ../ && make -j4"
   ]
  },
  {
   "cell_type": "markdown",
   "metadata": {},
   "source": [
    "#### Editing the code:"
   ]
  },
  {
   "cell_type": "code",
   "execution_count": null,
   "metadata": {},
   "outputs": [],
   "source": [
    "! clion project"
   ]
  }
 ],
 "metadata": {
  "kernelspec": {
   "display_name": "Python 3",
   "language": "python",
   "name": "python3"
  },
  "language_info": {
   "codemirror_mode": {
    "name": "ipython",
    "version": 3
   },
   "file_extension": ".py",
   "mimetype": "text/x-python",
   "name": "python",
   "nbconvert_exporter": "python",
   "pygments_lexer": "ipython3",
   "version": "3.8.3"
  }
 },
 "nbformat": 4,
 "nbformat_minor": 4
}
