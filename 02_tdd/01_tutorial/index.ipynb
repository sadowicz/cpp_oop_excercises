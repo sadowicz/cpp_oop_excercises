{
 "cells": [
  {
   "cell_type": "markdown",
   "metadata": {},
   "source": [
    "# OOP 2020"
   ]
  },
  {
   "cell_type": "markdown",
   "metadata": {},
   "source": [
    "## 2. TDD"
   ]
  },
  {
   "cell_type": "markdown",
   "metadata": {},
   "source": [
    "### 2.1. Totorial"
   ]
  },
  {
   "cell_type": "markdown",
   "metadata": {},
   "source": [
    "<img src=\"https://upload.wikimedia.org/wikipedia/commons/thumb/0/0b/TDD_Global_Lifecycle.png/1280px-TDD_Global_Lifecycle.png\"/>\n",
    "\n",
    "Image: [Test-driven development](https://en.wikipedia.org/wiki/Test-driven_development)"
   ]
  },
  {
   "cell_type": "markdown",
   "metadata": {},
   "source": [
    "#### Simplified variant\n",
    "\n",
    "- **RED**: Adding or modifying test so they fail\n",
    "- **GREEN**: Fixing code to make tests pass\n",
    "- **REFACTOR**: changing code without modyfing passing tests\n",
    "\n",
    "**RED** -> **GREEN** -> **REFACTOR** -> **RED** -> **GREEN** -> **REFACTOR** -> ..."
   ]
  }
 ],
 "metadata": {
  "kernelspec": {
   "display_name": "Python 3",
   "language": "python",
   "name": "python3"
  },
  "language_info": {
   "codemirror_mode": {
    "name": "ipython",
    "version": 3
   },
   "file_extension": ".py",
   "mimetype": "text/x-python",
   "name": "python",
   "nbconvert_exporter": "python",
   "pygments_lexer": "ipython3",
   "version": "3.8.3"
  }
 },
 "nbformat": 4,
 "nbformat_minor": 4
}
